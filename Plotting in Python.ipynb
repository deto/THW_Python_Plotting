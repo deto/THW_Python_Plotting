{
 "cells": [
  {
   "cell_type": "markdown",
   "metadata": {},
   "source": [
    "# Plotting in Python\n",
    "\n",
    "## What We're Covering Today\n",
    "\n",
    "    - Matplotlib\n",
    "    - Seaborn\n",
    "    - Other Popular Libraries"
   ]
  },
  {
   "cell_type": "markdown",
   "metadata": {},
   "source": [
    "# Matplotlib"
   ]
  },
  {
   "cell_type": "code",
   "execution_count": null,
   "metadata": {
    "collapsed": true
   },
   "outputs": [],
   "source": [
    "import matplotlib.pyplot as plt"
   ]
  },
  {
   "cell_type": "markdown",
   "metadata": {},
   "source": [
    "Kind of strange, but this is generally how matplotlib is imported."
   ]
  },
  {
   "cell_type": "code",
   "execution_count": null,
   "metadata": {
    "collapsed": false
   },
   "outputs": [],
   "source": [
    "# First plot\n",
    "plt.figure()\n",
    "x = [1, 2, 3, 4, 5]\n",
    "y = [1, 6, 9, 6, 1]\n",
    "plt.plot(x, y)\n",
    "plt.show()"
   ]
  },
  {
   "cell_type": "markdown",
   "metadata": {},
   "source": [
    "What is happening here:\n",
    "\n",
    "- `plt.figure()`: Create a new figure\n",
    "- `plt.plot(...)`: Add a plot to this figure\n",
    "- `plot.show()`: Render the plot\n",
    "\n",
    "In a terminal, `plot.show()` opens a new window.  Code execution halts until you close the window.\n",
    "\n",
    "If you use **ipython** though, you can run `%matplotlib` in order to enable interactive plotting.\n",
    "\n",
    "In jupyter notebook - use `%matplotlib inline` or `%matplotlib notebook`\n",
    "- No need for `plt.show` then.  Any in-progress plots are shown at the end of a cell's execution automatically"
   ]
  },
  {
   "cell_type": "code",
   "execution_count": null,
   "metadata": {
    "collapsed": false
   },
   "outputs": [],
   "source": [
    "#%matplotlib inline\n",
    "plt.figure()\n",
    "plt.plot(x,y)"
   ]
  },
  {
   "cell_type": "code",
   "execution_count": null,
   "metadata": {
    "collapsed": false
   },
   "outputs": [],
   "source": [
    "%matplotlib notebook\n",
    "plt.figure()\n",
    "plt.plot(x,y)"
   ]
  },
  {
   "cell_type": "markdown",
   "metadata": {},
   "source": [
    "Why use `plt.figure`?\n",
    "\n",
    "If you don't create a new figure explicitly, then plots are added to the existing figure.\n",
    "- Unless there is no existing figure.  Then one is just created"
   ]
  },
  {
   "cell_type": "code",
   "execution_count": null,
   "metadata": {
    "collapsed": false
   },
   "outputs": [],
   "source": [
    "plt.figure()\n",
    "x = [1, 2, 3, 4, 5]\n",
    "y = [1, 6, 9, 6, 1]\n",
    "y2 = [5, 6, 7, 6, 5]\n",
    "plt.plot(x,y)\n",
    "plt.plot(x,y2)"
   ]
  },
  {
   "cell_type": "markdown",
   "metadata": {},
   "source": [
    "Now, let's load some more interesting data"
   ]
  },
  {
   "cell_type": "code",
   "execution_count": null,
   "metadata": {
    "collapsed": false
   },
   "outputs": [],
   "source": [
    "from __future__ import print_function # For the python2 people\n",
    "import pandas as pd # This is typically how pandas is loaded\n",
    "airlines = pd.read_table(\"airlines.txt\")\n",
    "airports = pd.read_table(\"airports.txt\")\n",
    "flights = pd.read_table(\"flights.txt\")\n",
    "planes = pd.read_table(\"planes.txt\")\n",
    "weather = pd.read_table(\"weather.txt\")"
   ]
  },
  {
   "cell_type": "markdown",
   "metadata": {},
   "source": [
    "Lets look at the weather table - this table contains information on the weather at each of the three origin airports for every hour of 2013."
   ]
  },
  {
   "cell_type": "code",
   "execution_count": null,
   "metadata": {
    "collapsed": false
   },
   "outputs": [],
   "source": [
    "weather"
   ]
  },
  {
   "cell_type": "code",
   "execution_count": null,
   "metadata": {
    "collapsed": false
   },
   "outputs": [],
   "source": [
    "# Let's get the total precipitation for each month\n",
    "daily_precip = weather.groupby(['origin', 'month'])['precip'].sum().reset_index()\n",
    "ewr_precip = daily_precip.loc[daily_precip.origin == 'EWR'].sort_values(['month']).precip.values\n",
    "lga_precip = daily_precip.loc[daily_precip.origin == 'LGA'].sort_values(['month']).precip.values\n",
    "jfk_precip = daily_precip.loc[daily_precip.origin == 'JFK'].sort_values(['month']).precip.values\n",
    "\n",
    "print(ewr_precip)"
   ]
  },
  {
   "cell_type": "code",
   "execution_count": null,
   "metadata": {
    "collapsed": false
   },
   "outputs": [],
   "source": [
    "# Let's add multiple line plots to the same axes\n",
    "plt.figure()\n",
    "plt.plot(lga_precip)\n",
    "plt.plot(ewr_precip)\n",
    "plt.plot(jfk_precip)"
   ]
  },
  {
   "cell_type": "code",
   "execution_count": null,
   "metadata": {
    "collapsed": false
   },
   "outputs": [],
   "source": [
    "# Let's change the style of them\n",
    "plt.figure()\n",
    "plt.plot(lga_precip, 'o', markersize=10)\n",
    "plt.plot(ewr_precip, 'v', markersize=10)\n",
    "plt.plot(jfk_precip, '*', markersize=10)"
   ]
  },
  {
   "cell_type": "markdown",
   "metadata": {},
   "source": [
    "### Line/Marker styles in Matplotlib\n",
    "\n",
    "There are 2 ways to set the style for the line and the points on the edges\n",
    "\n",
    "1. Specify each property as its own argument in the plot function\n",
    "\n",
    "    ```python\n",
    "    plt.plot(x, y,\n",
    "            linestyle='solid', linewidth=10, color='blue',\n",
    "            marker='o', markersize=5, markerfacecolor='green', markeredgecolor='red'\n",
    "            )\n",
    "    ```\n",
    "\n",
    "2. Use an abbreviation ([documented here](https://matplotlib.org/api/pyplot_api.html#matplotlib.pyplot.plot))\n",
    "\n",
    "    ```python\n",
    "    plt.plot(x, y, '-ob')  # Solid line, 'o' marker, blue\n",
    "    ```"
   ]
  },
  {
   "cell_type": "code",
   "execution_count": null,
   "metadata": {
    "collapsed": false
   },
   "outputs": [],
   "source": [
    "# Let's add a legend\n",
    "plt.figure()\n",
    "plt.plot(lga_precip, 'o', markersize=10, label='LGA')\n",
    "plt.plot(ewr_precip, 'v', markersize=10, label='EWR')\n",
    "plt.plot(jfk_precip, '*', markersize=10, label='JFK')\n",
    "plt.legend()"
   ]
  },
  {
   "cell_type": "markdown",
   "metadata": {},
   "source": [
    "Let's add a bit more information to the plot"
   ]
  },
  {
   "cell_type": "code",
   "execution_count": null,
   "metadata": {
    "collapsed": false
   },
   "outputs": [],
   "source": [
    "plt.xlabel('Month')\n",
    "plt.ylabel('Total Precipitation (inches)')\n",
    "plt.title('Precipitation Over Time')"
   ]
  },
  {
   "cell_type": "code",
   "execution_count": null,
   "metadata": {
    "collapsed": false
   },
   "outputs": [],
   "source": [
    "# Easy to save to a variety for formats\n",
    "plt.savefig('precipitation.pdf')\n",
    "plt.savefig('precipitation.svg')\n",
    "plt.savefig('precipitation.png')"
   ]
  },
  {
   "cell_type": "markdown",
   "metadata": {},
   "source": [
    "### Scatter plots\n",
    "\n",
    "Difference between scatter and plot\n",
    "- Use scatter plots when you want every point to have a different size or color\n",
    "- Let's see an example"
   ]
  },
  {
   "cell_type": "code",
   "execution_count": null,
   "metadata": {
    "collapsed": false
   },
   "outputs": [],
   "source": [
    "# Like this, it's not too different from plt.plot with markersize=5\n",
    "plt.figure()\n",
    "plt.scatter(weather.temp, weather.dewp, s=5)"
   ]
  },
  {
   "cell_type": "code",
   "execution_count": null,
   "metadata": {
    "collapsed": false
   },
   "outputs": [],
   "source": [
    "plt.figure()\n",
    "plt.scatter(weather.temp, weather.dewp, c=weather.humid, s=5)"
   ]
  },
  {
   "cell_type": "code",
   "execution_count": null,
   "metadata": {
    "collapsed": false
   },
   "outputs": [],
   "source": [
    "# Let's add a x=y line and a colorbar\n",
    "plt.plot([0, 100], [0, 100], '--', color='#aaaaaa', linewidth=.5)\n",
    "plt.colorbar()"
   ]
  },
  {
   "cell_type": "markdown",
   "metadata": {},
   "source": [
    "**Here we can learn something about temperature, dewpoint, and humidity**\n",
    "\n",
    "- Dewpoint is the temperature which water will condensate on an object\n",
    "- It's linearly dependent on temperature, but there was still not a 1-1 mapping\n",
    "- By adding color, we can see that humidity is the contributor to the difference between temperature and dewpoint"
   ]
  },
  {
   "cell_type": "markdown",
   "metadata": {},
   "source": [
    "### Multiple plots in a figure - using subplot"
   ]
  },
  {
   "cell_type": "code",
   "execution_count": null,
   "metadata": {
    "collapsed": false
   },
   "outputs": [],
   "source": [
    "plt.figure() # Create a new figure\n",
    "plt.subplot(1, 2, 1) # 1 row, 2 columns, plot #1\n",
    "\n",
    "plt.plot(lga_precip, 'o', markersize=10, label='LGA')\n",
    "plt.plot(ewr_precip, 'v', markersize=10, label='EWR')\n",
    "plt.plot(jfk_precip, '*', markersize=10, label='JFK')\n",
    "plt.legend()\n",
    "plt.xlabel('Month')\n",
    "plt.ylabel('Total Precipitation (inches)')\n",
    "plt.title('Precipitation Over Time')\n",
    "\n",
    "plt.subplot(1, 2, 2) # 1 row, 2 columns, plot #2\n",
    "\n",
    "plt.scatter(weather.temp, weather.dewp, c=weather.humid, s=5)\n",
    "plt.plot([0, 100], [0, 100], '--', color='#aaaaaa', linewidth=.5)\n",
    "plt.colorbar()\n",
    "plt.xlabel('Temperature (F)')\n",
    "plt.ylabel('Dewpoint (F)')\n",
    "plt.title('Temp vs Dewpoint')"
   ]
  },
  {
   "cell_type": "markdown",
   "metadata": {},
   "source": [
    "### Adjusting subplots\n",
    "\n",
    "You'll notice that while we have two plots here, they aren't positioned very nicely.\n",
    "\n",
    "There are three ways to fix this\n",
    "\n",
    "1. Give the plots more space to start with\n",
    "    - When you call `plt.figure`, you can specify a figure size (inches x inches) (demo with 10x5)<br><br>\n",
    "    \n",
    "2.  Manually specify different spacings using `plt.subplots_adjust`\n",
    "    - left = 0.125\n",
    "        - the left side of the subplots of the figure\n",
    "    - right = 0.9\n",
    "        - the right side of the subplots of the figure\n",
    "    - bottom = 0.1\n",
    "        - the bottom of the subplots of the figure\n",
    "    - top = 0.9\n",
    "        - the top of the subplots of the figure\n",
    "    - wspace = 0.2\n",
    "        - the amount of width reserved for blank space between subplots, expressed as a fraction of the average axis width\n",
    "    - hspace = 0.2\n",
    "        - the amount of height reserved for white space between subplots, expressed as a fraction of the average axis height<br><br>\n",
    "3.  Call `plt.tight_layout()` and let matplotlib figure it out"
   ]
  },
  {
   "cell_type": "code",
   "execution_count": null,
   "metadata": {
    "collapsed": true
   },
   "outputs": [],
   "source": [
    "plt.close('all') # Close all interactive plots currently open"
   ]
  },
  {
   "cell_type": "markdown",
   "metadata": {},
   "source": [
    "### Histograms\n",
    "\n",
    "Lets look at some histograms in matplotlib\n",
    "\n",
    "To do this, we'll use some of the data in the 'flights' table"
   ]
  },
  {
   "cell_type": "code",
   "execution_count": null,
   "metadata": {
    "collapsed": false
   },
   "outputs": [],
   "source": [
    "flights"
   ]
  },
  {
   "cell_type": "code",
   "execution_count": null,
   "metadata": {
    "collapsed": false
   },
   "outputs": [],
   "source": [
    "daily_departures = (flights.groupby(['origin', 'year', 'month', 'day'])\n",
    "    .size()\n",
    "    .reset_index())\n",
    "\n",
    "ewr_departures = daily_departures.loc[daily_departures.origin == 'EWR'][0]  # .size() put its result in column 0\n",
    "plt.figure()\n",
    "plt.hist(ewr_departures, bins=30);"
   ]
  },
  {
   "cell_type": "code",
   "execution_count": null,
   "metadata": {
    "collapsed": false
   },
   "outputs": [],
   "source": [
    "# Add multiple histograms - use 'alpha' to overlay\n",
    "\n",
    "jfk_departures = daily_departures.loc[daily_departures.origin == 'JFK'][0]  # .size() put its result in column 0\n",
    "lga_departures = daily_departures.loc[daily_departures.origin == 'LGA'][0]  # .size() put its result in column 0\n",
    "plt.figure()\n",
    "plt.hist(ewr_departures, bins=30, label='EWR', alpha=.6)\n",
    "plt.hist(jfk_departures, bins=30, label='JFK', alpha=.6)\n",
    "plt.hist(lga_departures, bins=30, label='LGA', alpha=.6)\n",
    "plt.legend()"
   ]
  },
  {
   "cell_type": "markdown",
   "metadata": {},
   "source": [
    "### Alternate plot styles\n",
    "\n",
    "You can use the command 'plt.styles.use' to change the plotting style\n",
    "\n",
    "Matplotlib comes with several options built-in"
   ]
  },
  {
   "cell_type": "code",
   "execution_count": null,
   "metadata": {
    "collapsed": false
   },
   "outputs": [],
   "source": [
    "plt.style.available"
   ]
  },
  {
   "cell_type": "code",
   "execution_count": null,
   "metadata": {
    "collapsed": false
   },
   "outputs": [],
   "source": [
    "plt.style.use('grayscale')\n",
    "plt.figure()\n",
    "plt.hist(ewr_departures, bins=30, label='EWR', alpha=.6)\n",
    "plt.hist(jfk_departures, bins=30, label='JFK', alpha=.6)\n",
    "plt.hist(lga_departures, bins=30, label='LGA', alpha=.6)\n",
    "plt.legend()"
   ]
  },
  {
   "cell_type": "markdown",
   "metadata": {},
   "source": [
    "# Seaborn\n",
    "\n",
    "Seaborn is a plotting library that is built on top of **matplotlib**\n",
    "\n",
    "You can do anything in seaborn with just matplotlib commands.  Seaborn just makes it much less tedious.\n",
    "\n",
    "Seaborn is useful for:\n",
    "\n",
    "- Heatmaps\n",
    "- Statistical plots\n",
    "- Dealing with Categorical variables"
   ]
  },
  {
   "cell_type": "markdown",
   "metadata": {},
   "source": [
    "## Learning seaborn conventions with *jointplot*\n",
    "\n",
    "`jointplot` is a handy function for plotting the joint distribution of two variables"
   ]
  },
  {
   "cell_type": "code",
   "execution_count": null,
   "metadata": {
    "collapsed": false
   },
   "outputs": [],
   "source": [
    "import seaborn as sns  # This is how seaborn is usually abbreviated\n",
    "tips = sns.load_dataset('tips')\n",
    "tips"
   ]
  },
  {
   "cell_type": "code",
   "execution_count": null,
   "metadata": {
    "collapsed": false
   },
   "outputs": [],
   "source": [
    "sns.jointplot(tips.total_bill, tips.tip)\n",
    "#sns.jointplot(tips.total_bill, tips.tip, kind='hex')"
   ]
  },
  {
   "cell_type": "markdown",
   "metadata": {},
   "source": [
    "Here's our plot! Some things to notice:\n",
    "\n",
    "- Seaborn has already filled in the x and y labels\n",
    "- This is actually a matplotlib Figure.  The figure has three Axes (subplots)\n",
    "- If we zoom in, the histograms zoom to follow"
   ]
  },
  {
   "cell_type": "code",
   "execution_count": null,
   "metadata": {
    "collapsed": false
   },
   "outputs": [],
   "source": [
    "sns.jointplot(x=tips.total_bill, y=tips.tip, kind='kde')\n"
   ]
  },
  {
   "cell_type": "markdown",
   "metadata": {},
   "source": [
    "### DataFrames and Seaborn\n",
    "\n",
    "Seaborn makes it easy to just use dataframes directly.\n",
    "\n",
    "Recall that our 'tips' dataframe has columns 'total_bill' and 'tip'\n",
    "\n",
    "All seaborn plotting functions provide an alternate way of calling them that uses the dataframe directly:"
   ]
  },
  {
   "cell_type": "code",
   "execution_count": null,
   "metadata": {
    "collapsed": false
   },
   "outputs": [],
   "source": [
    "# Use dataframe columns directly\n",
    "sns.jointplot(x='total_bill', y='tip', data=tips)\n"
   ]
  },
  {
   "cell_type": "code",
   "execution_count": null,
   "metadata": {
    "collapsed": false,
    "scrolled": false
   },
   "outputs": [],
   "source": [
    "# Pairplot\n",
    "sns.pairplot(vars=['total_bill', 'tip', 'size'], data=tips)"
   ]
  },
  {
   "cell_type": "code",
   "execution_count": null,
   "metadata": {
    "collapsed": false
   },
   "outputs": [],
   "source": [
    "# Pairplot - add hue\n",
    "sns.pairplot(vars=['total_bill', 'tip', 'size'], hue='time', data=tips)\n",
    "#plt.subplots_adjust(right=.85)"
   ]
  },
  {
   "cell_type": "markdown",
   "metadata": {},
   "source": [
    "### Box/violin\n",
    "\n",
    "These are all plots for showing distributions\n",
    "\n",
    "Let's use a new dataset for this one"
   ]
  },
  {
   "cell_type": "code",
   "execution_count": null,
   "metadata": {
    "collapsed": false
   },
   "outputs": [],
   "source": [
    "titanic = sns.load_dataset(\"titanic\")\n",
    "titanic"
   ]
  },
  {
   "cell_type": "code",
   "execution_count": null,
   "metadata": {
    "collapsed": false
   },
   "outputs": [],
   "source": [
    "plt.figure()\n",
    "sns.boxplot(x='class', y='fare', data=titanic)\n",
    "plt.ylim(0, 200);"
   ]
  },
  {
   "cell_type": "code",
   "execution_count": null,
   "metadata": {
    "collapsed": false
   },
   "outputs": [],
   "source": [
    "plt.figure()\n",
    "sns.boxplot(x='class', y='fare', hue='alive', data=titanic)\n",
    "plt.ylim(0, 160)"
   ]
  },
  {
   "cell_type": "code",
   "execution_count": null,
   "metadata": {
    "collapsed": false
   },
   "outputs": [],
   "source": [
    "plt.figure()\n",
    "sns.violinplot(x='class', y='fare', hue='alive', data=titanic)\n",
    "plt.ylim(0, 200);"
   ]
  },
  {
   "cell_type": "markdown",
   "metadata": {},
   "source": [
    "### Styles in Seaborn\n",
    "\n",
    "One of seaborns early uses was just to get prettier matplotlib plots.\n",
    "\n",
    "Matplotlib defaults were ugly, but if you just imported seaborn, they'd be set to something that looked nicer.\n",
    "\n",
    "Now, matplotlib (2.0 and up) has decent looking defaults, but seaborn still has some nice options\n",
    "\n",
    "- sns.set_style(*style_name*) can switch between plotting styles\n",
    "    - *style_name* are 'white', 'dark', 'whitegrid', 'darkgrid', 'ticks'<br><br>\n",
    "- sns.despine() removes the top and right axes spines<br><br>\n",
    "- sns.set_context(*context_name*) will scale plot elements\n",
    "    - *context_name* are 'talk', 'paper', 'notebook', 'poster'<br><br>"
   ]
  },
  {
   "cell_type": "code",
   "execution_count": null,
   "metadata": {
    "collapsed": false
   },
   "outputs": [],
   "source": [
    "sns.set_context('paper') # Make text bigger\n",
    "sns.set_style(\"dark\")\n",
    "plt.figure()\n",
    "sns.boxplot(x='class', y='fare', hue='alive', data=titanic)\n",
    "plt.ylim(0, 160)"
   ]
  },
  {
   "cell_type": "code",
   "execution_count": null,
   "metadata": {
    "collapsed": false
   },
   "outputs": [],
   "source": [
    "sns.set_context('talk') # Make text bigger\n",
    "sns.set_style(\"white\")\n",
    "sns.set_style(\"ticks\")\n",
    "plt.figure()\n",
    "sns.boxplot(x='class', y='fare', hue='alive', data=titanic)\n",
    "plt.ylim(0, 160)\n",
    "plt.subplots_adjust(left=.2, bottom=.2)\n",
    "sns.despine(offset=25)"
   ]
  },
  {
   "cell_type": "markdown",
   "metadata": {},
   "source": [
    "### Using *FaceGrid* to create plots for every level of a categorical variable\n",
    "\n",
    "Let's visualize the distribution of the number of departures per day, in a separate plot for each month\n"
   ]
  },
  {
   "cell_type": "code",
   "execution_count": null,
   "metadata": {
    "collapsed": false
   },
   "outputs": [],
   "source": [
    "flights_per_day = flights.groupby(['origin', 'month', 'day']).size().reset_index()\n",
    "flights_per_day"
   ]
  },
  {
   "cell_type": "code",
   "execution_count": null,
   "metadata": {
    "collapsed": false
   },
   "outputs": [],
   "source": [
    "plt.close('all')\n",
    "g = sns.FacetGrid(data=flights_per_day, col='month', col_wrap=4)\n",
    "g.map(plt.hist, 0)"
   ]
  },
  {
   "cell_type": "code",
   "execution_count": null,
   "metadata": {
    "collapsed": false
   },
   "outputs": [],
   "source": [
    "# And we can add a hue (because why not?)\n",
    "g = sns.FacetGrid(data=flights_per_day, col='month', col_wrap=4, hue='origin')\n",
    "g.map(plt.hist, 0, range=(200, 400), alpha=.6)"
   ]
  },
  {
   "cell_type": "code",
   "execution_count": null,
   "metadata": {
    "collapsed": false
   },
   "outputs": [],
   "source": [
    "# That's still a little hard to see, let's use box plots instead\n",
    "g = sns.FacetGrid(data=flights_per_day, col='month', col_wrap=4)\n",
    "g.map(sns.boxplot, \"origin\", 0)"
   ]
  },
  {
   "cell_type": "markdown",
   "metadata": {},
   "source": [
    "### Heatmaps\n",
    "\n",
    "Heatmaps are an area where seaborn really makes things a bit easier.\n",
    "\n",
    "You can use 'plt.pcolormesh' to plot a grid of color in matplotlib.  However, you'll have to set up all the tick-labels manually.\n",
    "\n",
    "Here's an example plotting a heatmap with seaborn"
   ]
  },
  {
   "cell_type": "code",
   "execution_count": null,
   "metadata": {
    "collapsed": false
   },
   "outputs": [],
   "source": [
    "# Number of departures per hour\n",
    "# Rows - day of the week\n",
    "# Columns - hour of the day\n",
    "# Values - avg # of flights\n",
    "\n",
    "def day_of_week_2013(month, day):\n",
    "    \"\"\"\n",
    "    2013 was NOT a leapyear and started on a Tuesday\n",
    "    \"\"\"\n",
    "    days = ['Monday', 'Tuesday', 'Wednesday', 'Thursday', 'Friday', 'Saturday', 'Sunday']\n",
    "    day_num = (month-1)*31 + day\n",
    "    if month > 2: day_num -= 3\n",
    "    if month > 4: day_num -= 1\n",
    "    if month > 6: day_num -= 1\n",
    "    if month > 9: day_num -= 1\n",
    "    if month > 11: day_num -= 1\n",
    "    \n",
    "    return days[(day_num) % 7]\n",
    "\n",
    "flights['Weekday'] = [day_of_week_2013(month, day) for month, day in zip(flights.month, flights.day)]\n",
    "\n",
    "counts = flights.groupby(['Weekday', 'hour', 'day', 'month']).size().reset_index()\n",
    "weekday_counts = counts.groupby(['Weekday', 'hour'])[0].mean()\n",
    "weekday_counts = weekday_counts.reset_index()\n",
    "weekday_counts = weekday_counts.pivot(index='Weekday', columns='hour', values=0)\n",
    "weekday_counts = weekday_counts.fillna(0)\n",
    "weekday_counts = weekday_counts.loc[['Monday', 'Tuesday', 'Wednesday', 'Thursday', 'Friday', 'Saturday', 'Sunday']] # Sort the weekdays\n",
    "weekday_counts"
   ]
  },
  {
   "cell_type": "code",
   "execution_count": null,
   "metadata": {
    "collapsed": false,
    "scrolled": false
   },
   "outputs": [],
   "source": [
    "plt.figure()\n",
    "sns.heatmap(weekday_counts)"
   ]
  },
  {
   "cell_type": "markdown",
   "metadata": {},
   "source": [
    "That's....ok.  But still needs a little work."
   ]
  },
  {
   "cell_type": "code",
   "execution_count": null,
   "metadata": {
    "collapsed": false
   },
   "outputs": [],
   "source": [
    "plt.figure()\n",
    "data2 = weekday_counts.drop([1, 5, 22, 23], axis='columns')\n",
    "sns.heatmap(data2, cmap='YlGnBu', vmin=15, vmax=75)\n",
    "plt.yticks(rotation=20)\n",
    "plt.ylabel(\"\")\n",
    "plt.tight_layout()"
   ]
  },
  {
   "cell_type": "code",
   "execution_count": null,
   "metadata": {
    "collapsed": false
   },
   "outputs": [],
   "source": [
    "plt.figure()\n",
    "data2 = weekday_counts.drop([1, 5, 22, 23], axis='columns')\n",
    "sns.heatmap(data2, cmap='YlGnBu', vmin=15, vmax=75, annot=True, square=True, cbar=False)\n",
    "plt.yticks(rotation=20)\n",
    "plt.ylabel(\"\")\n",
    "plt.tight_layout()"
   ]
  },
  {
   "cell_type": "markdown",
   "metadata": {},
   "source": [
    "## Clustermap - Heatmap+Dendrogram\n",
    "\n",
    "Let's see if we can cluster the days based on how they deviate from the average # of flights in the day"
   ]
  },
  {
   "cell_type": "code",
   "execution_count": null,
   "metadata": {
    "collapsed": false
   },
   "outputs": [],
   "source": [
    "# Get an idea of how every day deviates from the average number of flights in that day of the week\n",
    "counts = flights.groupby(['Weekday', 'hour', 'day', 'month']).size().reset_index()\n",
    "counts['avg'] = [weekday_counts.loc[weekday, hour] for weekday, hour in zip(counts.Weekday, counts.hour)]\n",
    "counts['deviation'] = counts[0] - counts['avg']\n",
    "counts['date'] = [\"{}/{}\".format(month, day) for month, day in zip(counts.month, counts.day)]\n",
    "counts"
   ]
  },
  {
   "cell_type": "code",
   "execution_count": null,
   "metadata": {
    "collapsed": false,
    "scrolled": false
   },
   "outputs": [],
   "source": [
    "data = counts.pivot(index='date', columns='hour', values='deviation').fillna(0)\n",
    "cm = sns.clustermap(data, col_cluster=False, vmin=-10, vmax=10)\n",
    "plt.sca(cm.ax_heatmap) # More on this in a minute\n",
    "plt.yticks(rotation=0);"
   ]
  },
  {
   "cell_type": "markdown",
   "metadata": {
    "collapsed": true
   },
   "source": [
    "# Advanced Matplotlib\n",
    "\n",
    "\n"
   ]
  },
  {
   "cell_type": "markdown",
   "metadata": {},
   "source": [
    "## Pyplot vs Objects\n",
    "\n",
    "There are two ways to interact with Matplotlib plots\n",
    "\n",
    "When we use `pyplot.plot`  (abbreviated as plt.plot) to plot a picture, we're using the pyplot state machine.\n",
    "\n",
    "This was developed to give a MATLAB-like interface to the plotting system in matplotlib.\n",
    "\n",
    "`plt.plot` creates a plot using the **current axes** in the **current figure**.\n",
    "\n",
    "We could also call methods on these Figures and Axes directly.\n",
    "\n",
    "### Figures and Axes\n",
    "\n",
    "The image below is a single Figure object, with multiple Axes.\n",
    "\n",
    "![Figures/Axes](subplots.png \"Logo Title Text 1\")\n",
    "\n",
    "When we call `plt.plot`, it's acually calling the `plot` method of the current Axes object.\n",
    "\n",
    "\n",
    "*Snippet from the matplotlib.pyplot source on Github*\n",
    "![Pyplot_plot](pyplot_plot.png \"Logo Title Text 1\")\n",
    "\n",
    "Focusing on the red-underlined parts, you can see the function really does two things.\n",
    "\n",
    "1. Get the **current axes** by calling gca()\n",
    "2. Calls ax.plot(...) on that axes and passes the arguments through.\n",
    "\n",
    "*The rest has to do with the 'hold' state which determines if new plots are added to a figure or replace the currentplot*"
   ]
  },
  {
   "cell_type": "code",
   "execution_count": null,
   "metadata": {
    "collapsed": false
   },
   "outputs": [],
   "source": [
    "plt.figure()\n",
    "ax = plt.gca() # 'gca - Get Current Axes'\n",
    "ax.plot([1, 2, 3, 4, 5], [1, 3, 5, 3, 1])"
   ]
  },
  {
   "cell_type": "code",
   "execution_count": null,
   "metadata": {
    "collapsed": false
   },
   "outputs": [],
   "source": [
    "fig = plt.gcf() # gcf - 'Get Current Figure'\n",
    "fig.__repr__()"
   ]
  },
  {
   "cell_type": "markdown",
   "metadata": {
    "collapsed": true
   },
   "source": [
    "The Axes and Figure objects provide us with an endpoint to access/modify various aspects of a plot\n",
    "\n",
    "![Anatomy of a Figure](anatomy_of_a_figure.png \"Logo Title Text 1\")"
   ]
  },
  {
   "cell_type": "code",
   "execution_count": null,
   "metadata": {
    "collapsed": false
   },
   "outputs": [],
   "source": [
    "fig = plt.figure(figsize=(8, 5)) # Create a new figure\n",
    "ax1 = plt.subplot(1, 2, 1) # Create a subplot (returns an axes)\n",
    "ax2 = plt.subplot(1, 2, 2) # Create the other subplot (returns an axes)\n",
    "\n",
    "sns.boxplot(x='class', y='fare', hue='alive', data=titanic, ax=ax2) # Create our titanic plot, tell seaborn to use axes 2\n",
    "\n",
    "ax1.plot(lga_precip, 'o', markersize=10)\n",
    "ax1.plot(ewr_precip, 'v', markersize=10)\n",
    "ax1.plot(jfk_precip, '*', markersize=10)\n",
    "\n",
    "ax1.set_xlabel(\"Month\") # same as plt.xlabel\n",
    "ax1.set_ylabel(\"Precipitation\") # same as plt.ylabel\n",
    "ax1.set_title(\"Precipitation per month\")\n",
    "\n",
    "ax2.set_title(\"Titanic Survival\")\n",
    "\n",
    "fig.suptitle(\"Some plots!\")\n",
    "\n",
    "fig.subplots_adjust(wspace=.5)"
   ]
  },
  {
   "cell_type": "markdown",
   "metadata": {},
   "source": [
    "This gives us a way to modify the plots that seaborn creates"
   ]
  },
  {
   "cell_type": "code",
   "execution_count": null,
   "metadata": {
    "collapsed": false
   },
   "outputs": [],
   "source": [
    "# Use dataframe columns directly\n",
    "jp = sns.jointplot(x='total_bill', y='tip', data=tips)\n",
    "ax = jp.ax_joint # jointplot has 3 axes.  The main one is in this variable\n",
    "\n",
    "rot = 0\n",
    "for tick in ax.get_yticklabels(): # Rotate the Y tick labels\n",
    "    tick.set_rotation(rot)\n",
    "    rot += 45 \n",
    "    "
   ]
  },
  {
   "cell_type": "markdown",
   "metadata": {},
   "source": [
    "## Gridspec for more complicated figure layouts\n",
    "\n",
    "So far we just showed subplots using multiple axes that evenly divided the plot area.\n",
    "\n",
    "If you wanted to make a more complicated layout (like what Seaborn does in jointplot above) you can use GridSpec"
   ]
  },
  {
   "cell_type": "code",
   "execution_count": null,
   "metadata": {
    "collapsed": false
   },
   "outputs": [],
   "source": [
    "from matplotlib import gridspec\n",
    "plt.figure()\n",
    "gs = gridspec.GridSpec(2, 2,\n",
    "                       width_ratios=[1,2],\n",
    "                       height_ratios=[4,1]\n",
    "                       )\n",
    "\n",
    "ax1 = plt.subplot(gs[0])\n",
    "ax2 = plt.subplot(gs[1], sharey=ax1)\n",
    "ax3 = plt.subplot(gs[2], sharex=ax1)\n",
    "ax4 = plt.subplot(gs[3], sharex=ax2, sharey=ax3)\n",
    "\n",
    "for ax in [ax1, ax2, ax3, ax4]:\n",
    "    ax.plot(lga_precip, 'o', markersize=10)\n",
    "    ax.plot(ewr_precip, 'v', markersize=10)\n",
    "    ax.plot(jfk_precip, '*', markersize=10)\n"
   ]
  },
  {
   "cell_type": "code",
   "execution_count": null,
   "metadata": {
    "collapsed": false
   },
   "outputs": [],
   "source": [
    "# Or even crazier layouts\n",
    "\n",
    "plt.figure()\n",
    "gs = gridspec.GridSpec(3, 3)\n",
    "\n",
    "ax1 = plt.subplot(gs[0, :])   # Use row 1, all columns\n",
    "ax2 = plt.subplot(gs[1,:-1])  # Use row 2, all columns but the last one\n",
    "ax3 = plt.subplot(gs[1:, -1]) # Use row 2&3, only the last column\n",
    "ax4 = plt.subplot(gs[-1,0])   # Use the last row, first column\n",
    "ax5 = plt.subplot(gs[-1,-2])  # Use the last row, second column\n",
    "\n",
    "plt.subplots_adjust(wspace=.3, hspace=.3)"
   ]
  },
  {
   "cell_type": "markdown",
   "metadata": {},
   "source": [
    "# Other plotting tools\n",
    "\n",
    "- [Plotly](https://plot.ly/python/) (Interactive HTML/JS plots)\n",
    "- [Bokeh](http://bokeh.pydata.org/en/latest/docs/gallery/les_mis.html) (More interactive HTML/JS plots)\n",
    "- [ggpy](https://github.com/yhat/ggpy) (ggplot-style plotting in Python)"
   ]
  }
 ],
 "metadata": {
  "kernelspec": {
   "display_name": "Python 3",
   "language": "python",
   "name": "python3"
  },
  "language_info": {
   "codemirror_mode": {
    "name": "ipython",
    "version": 3
   },
   "file_extension": ".py",
   "mimetype": "text/x-python",
   "name": "python",
   "nbconvert_exporter": "python",
   "pygments_lexer": "ipython3",
   "version": "3.5.2"
  }
 },
 "nbformat": 4,
 "nbformat_minor": 1
}
